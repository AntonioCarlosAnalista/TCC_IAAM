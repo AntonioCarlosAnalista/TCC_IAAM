{
 "cells": [
  {
   "cell_type": "markdown",
   "metadata": {},
   "source": [
    "Visa, a partir de imagens em formato plano natural, gerar novas imagens (distorcidas) com técnicas de data augmentation."
   ]
  },
  {
   "cell_type": "code",
   "execution_count": 1,
   "metadata": {},
   "outputs": [],
   "source": [
    "#from keras.preprocessing.image import ImageDataGenerator, array_to_img, img_to_array, load_img\n",
    "from keras.preprocessing.image import ImageDataGenerator, img_to_array, load_img"
   ]
  },
  {
   "cell_type": "code",
   "execution_count": 2,
   "metadata": {},
   "outputs": [],
   "source": [
    "datagen = ImageDataGenerator(\n",
    "        rotation_range=15,\n",
    "        width_shift_range=0.2,\n",
    "        height_shift_range=0.2,\n",
    "        rescale=1./255,\n",
    "        shear_range=0.2,\n",
    "        zoom_range=0.8,\n",
    "        # horizontal_flip=True,      # Há placas de trânsito que não podem ser invertidas.\n",
    "        fill_mode='nearest')"
   ]
  },
  {
   "cell_type": "code",
   "execution_count": 3,
   "metadata": {},
   "outputs": [],
   "source": [
    "from os import listdir\n",
    "from os.path import isfile, join\n",
    "import os\n",
    "import shutil\n",
    "\n",
    "def listFiles(pathToFiles):\n",
    "   return [f for f in listdir(pathToFiles) if isfile(join(pathToFiles, f))]"
   ]
  },
  {
   "cell_type": "code",
   "execution_count": 4,
   "metadata": {},
   "outputs": [],
   "source": [
    "from PIL import Image\n",
    "import PIL\n",
    "import os\n",
    "import glob\n",
    "\n",
    "def resizeImage(img):\n",
    "    base_width = 90\n",
    "    image = img\n",
    "    width_percent = (base_width / float(image.size[0]))\n",
    "    hsize = int((float(image.size[1]) * float(width_percent)))\n",
    "    image = image.resize((base_width, hsize), PIL.Image.ANTIALIAS)\n",
    "    #image.save('resized_compressed_image.jpg')\n",
    "    return image"
   ]
  },
  {
   "cell_type": "code",
   "execution_count": 5,
   "metadata": {},
   "outputs": [],
   "source": [
    "def augmentationGenerator(targetFolder, file,qtd):\n",
    "   img=load_img(file)\n",
    "   #img=img.resize((32,32))\n",
    "   img=resizeImage(img)\n",
    "   x = img_to_array(img)          # Numpy array com shape (3, 150, 150) \n",
    "   x = x.reshape((1,) + x.shape)  # Numpy array com shape (1, 3, 150, 150)\n",
    "\n",
    "   nomeBaseImg=file[file.rfind('/')+1:int(file.index('.JPG'))]\n",
    "   i = 0\n",
    "   stdir=targetFolder+nomeBaseImg+'/'\n",
    "   print(stdir)\n",
    "   if os.path.exists(stdir) and os.path.isdir(stdir):\n",
    "       shutil.rmtree(stdir)\n",
    "   os.mkdir(stdir)\n",
    "\n",
    "   # O comando .flow() abaixo gera imagens transformadas randomicamente e salva o resultado\n",
    "   for batch in datagen.flow(x, batch_size=1,\n",
    "                          save_to_dir=stdir, save_prefix=nomeBaseImg, save_format='jpeg'):\n",
    "    i += 1\n",
    "    if i >= qtd:\n",
    "        break  # Para evitar loop infinito\n",
    "   return nomeBaseImg\n"
   ]
  },
  {
   "cell_type": "code",
   "execution_count": 6,
   "metadata": {},
   "outputs": [
    {
     "name": "stdout",
     "output_type": "stream",
     "text": [
      "data_augmentation/Alfandega R-21/\n",
      "data_augmentation/Altura maxima permitida R-15/\n",
      "data_augmentation/Ciclista transite a direita R-35b/\n",
      "data_augmentation/Ciclista transite a esquerda R-35a/\n",
      "data_augmentation/Ciclistas a esquerda pedestres a direita R-36a/\n",
      "data_augmentation/Circulacao exclusiva de bicicletas R-34/\n",
      "data_augmentation/Circulacao exclusiva de caminhoes R-39/\n",
      "data_augmentation/Circulacao exclusiva de onibus R-32/\n",
      "data_augmentation/Comprimento maximo permitido R-18/\n",
      "data_augmentation/Conserve se a direita R-23/\n",
      "data_augmentation/De preferencia R-2/\n",
      "data_augmentation/Duplo sentido de circulacao R-28/\n",
      "data_augmentation/Estacionamento regulamentado R-6b/\n",
      "data_augmentation/Largura maxima permitida R-16/\n",
      "data_augmentation/Onibus caminhoes e veiculos de grande porte mantenham se a direita R-27/\n",
      "data_augmentation/Parada obrigatoria R1/\n",
      "data_augmentation/Passagem obrigatoria R-24b/\n",
      "data_augmentation/Pedestre ande pela direita R-31/\n",
      "data_augmentation/Pedestre ande pela esquerda R-30/\n",
      "data_augmentation/Pedestres a esquerda ciclistas a direita R-36b/\n",
      "data_augmentation/Peso bruto total maximo permitido R-14/\n",
      "data_augmentation/Peso maximo permitido por eixo R-17/\n",
      "data_augmentation/Proibido acionar buzina ou sinal sonoro R-20/\n",
      "data_augmentation/Proibido estacionar R-6a/\n",
      "data_augmentation/Proibido mudar de faixa ou pista de transito da direita para esquerda R-8b/\n",
      "data_augmentation/Proibido mudar de faixa ou pista de transito da esquerda para direita R-8a/\n",
      "data_augmentation/Proibido parar e estacionar R-6c/\n",
      "data_augmentation/Proibido retornar a direita R-5b/\n",
      "data_augmentation/Proibido retornar a esquerda R-5a/\n",
      "data_augmentation/Proibido transito de bicicletas R-12/\n",
      "data_augmentation/Proibido transito de caminhoes R-9/\n",
      "data_augmentation/Proibido transito de motocicletas motonetas e ciclomotores R-37/\n",
      "data_augmentation/Proibido transito de onibus R-38/\n",
      "data_augmentation/Proibido transito de pedestres R-29/\n",
      "data_augmentation/Proibido transito de tratores e maquinas de obras R-13/\n",
      "data_augmentation/Proibido transito de veiculos auto motores R-10/\n",
      "data_augmentation/Proibido transito de veiculos de tracao animal R-11/\n",
      "data_augmentation/Proibido ultrapassar R-7/\n",
      "data_augmentation/Proibido virar a direita R-4b/\n",
      "data_augmentation/Proibido virar a esquerda R-4a/\n",
      "data_augmentation/Sentido circular na rota R-33/\n",
      "data_augmentation/Sentido de circulacao da via ou pista R-24a/\n",
      "data_augmentation/Sentido proibido R-3/\n",
      "data_augmentation/Siga em frente ou a direita R-25d/\n",
      "data_augmentation/Siga em frente ou a esquerda R-25c/\n",
      "data_augmentation/Siga em frente R-26/\n",
      "data_augmentation/Transito proibido a carros de mao R-40/\n",
      "data_augmentation/Uso obrigatorio de corrente R-22/\n",
      "data_augmentation/Velocidade maxima permitida 10 R-19/\n",
      "data_augmentation/Velocidade maxima permitida 100 R-19/\n",
      "data_augmentation/Velocidade maxima permitida 20 R-19/\n",
      "data_augmentation/Velocidade maxima permitida 30 R-19/\n",
      "data_augmentation/Velocidade maxima permitida 40 R-19/\n",
      "data_augmentation/Velocidade maxima permitida 50 R-19/\n",
      "data_augmentation/Velocidade maxima permitida 60 R-19/\n",
      "data_augmentation/Velocidade maxima permitida 70 R-19/\n",
      "data_augmentation/Velocidade maxima permitida 80 R-19/\n",
      "data_augmentation/Velocidade maxima permitida 90 R-19/\n",
      "data_augmentation/Vire a direita R-25b/\n",
      "data_augmentation/Vire a esquerda R-25a/\n"
     ]
    }
   ],
   "source": [
    "pathToFiles='data_base/'\n",
    "targetFolder='data_augmentation/'\n",
    "qtd=500\n",
    "\n",
    "for arquivo in listFiles(pathToFiles):\n",
    "    pathFile=pathToFiles+arquivo\n",
    "    augmentationGenerator(targetFolder,pathFile,qtd)"
   ]
  }
 ],
 "metadata": {
  "interpreter": {
   "hash": "4a2b62a385fe28cf6c7afc4268bfee9e9f84d58f7c43f872cc66bfce7fd18b1d"
  },
  "kernelspec": {
   "display_name": "Python 3.10.2 64-bit (windows store)",
   "language": "python",
   "name": "python3"
  },
  "language_info": {
   "codemirror_mode": {
    "name": "ipython",
    "version": 3
   },
   "file_extension": ".py",
   "mimetype": "text/x-python",
   "name": "python",
   "nbconvert_exporter": "python",
   "pygments_lexer": "ipython3",
   "version": "3.10.4"
  },
  "orig_nbformat": 4
 },
 "nbformat": 4,
 "nbformat_minor": 2
}
